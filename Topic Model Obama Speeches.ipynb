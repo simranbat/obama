{
 "cells": [
  {
   "cell_type": "code",
   "execution_count": 1,
   "metadata": {},
   "outputs": [],
   "source": [
    "src_file = 'obama.csv'\n",
    "mallet_path = '\\\\Mallet\\\\bin\\\\mallet'"
   ]
  },
  {
   "cell_type": "code",
   "execution_count": 2,
   "metadata": {},
   "outputs": [],
   "source": [
    "num_topics = 10\n",
    "num_iters = 100\n",
    "show_interval = 100"
   ]
  },
  {
   "cell_type": "code",
   "execution_count": 3,
   "metadata": {},
   "outputs": [],
   "source": [
    "import pandas as pd\n",
    "import numpy as np\n",
    "import sqlite3\n",
    "import re\n",
    "import random\n",
    "import textman as tx\n",
    "from sklearn.feature_extraction.text import TfidfVectorizer\n",
    "import matplotlib.pyplot as plt"
   ]
  },
  {
   "cell_type": "code",
   "execution_count": 4,
   "metadata": {},
   "outputs": [],
   "source": [
    "%matplotlib inline\n"
   ]
  },
  {
   "cell_type": "code",
   "execution_count": 5,
   "metadata": {},
   "outputs": [],
   "source": [
    "docs = pd.read_csv(src_file, encoding = \"ISO-8859-1\")\n",
    "docs = docs.set_index('Unnamed: 0')\n",
    "docs = docs.sample(2000)"
   ]
  },
  {
   "cell_type": "code",
   "execution_count": 6,
   "metadata": {},
   "outputs": [],
   "source": [
    "tokens, vocab = tx.create_tokens_and_vocab(docs, src_col='Text')\n",
    "tokens['token_num'] = tokens.groupby(['Unnamed: 0']).cumcount()\n",
    "tokens = tokens.reset_index()[['Unnamed: 0','token_num','term_id']]\n",
    "tokens = tokens[tokens.term_id.isin(vocab[vocab.go].index)]\n",
    "tokens = tokens.set_index(['Unnamed: 0','token_num'])"
   ]
  },
  {
   "cell_type": "code",
   "execution_count": 7,
   "metadata": {},
   "outputs": [
    {
     "data": {
      "text/html": [
       "<div>\n",
       "<style scoped>\n",
       "    .dataframe tbody tr th:only-of-type {\n",
       "        vertical-align: middle;\n",
       "    }\n",
       "\n",
       "    .dataframe tbody tr th {\n",
       "        vertical-align: top;\n",
       "    }\n",
       "\n",
       "    .dataframe thead th {\n",
       "        text-align: right;\n",
       "    }\n",
       "</style>\n",
       "<table border=\"1\" class=\"dataframe\">\n",
       "  <thead>\n",
       "    <tr style=\"text-align: right;\">\n",
       "      <th></th>\n",
       "      <th></th>\n",
       "      <th></th>\n",
       "      <th>token</th>\n",
       "      <th>term_str</th>\n",
       "      <th>term_id</th>\n",
       "    </tr>\n",
       "    <tr>\n",
       "      <th>Unnamed: 0</th>\n",
       "      <th>sent_id</th>\n",
       "      <th>token_id</th>\n",
       "      <th></th>\n",
       "      <th></th>\n",
       "      <th></th>\n",
       "    </tr>\n",
       "  </thead>\n",
       "  <tbody>\n",
       "    <tr>\n",
       "      <th rowspan=\"5\" valign=\"top\">14539</th>\n",
       "      <th rowspan=\"5\" valign=\"top\">0</th>\n",
       "      <th>4</th>\n",
       "      <td>pivotal</td>\n",
       "      <td>pivotal</td>\n",
       "      <td>21767</td>\n",
       "    </tr>\n",
       "    <tr>\n",
       "      <th>5</th>\n",
       "      <td>moment</td>\n",
       "      <td>moment</td>\n",
       "      <td>18975</td>\n",
       "    </tr>\n",
       "    <tr>\n",
       "      <th>8</th>\n",
       "      <td>global</td>\n",
       "      <td>global</td>\n",
       "      <td>12688</td>\n",
       "    </tr>\n",
       "    <tr>\n",
       "      <th>9</th>\n",
       "      <td>fight</td>\n",
       "      <td>fight</td>\n",
       "      <td>11449</td>\n",
       "    </tr>\n",
       "    <tr>\n",
       "      <th>11</th>\n",
       "      <td>HIV</td>\n",
       "      <td>hiv</td>\n",
       "      <td>13918</td>\n",
       "    </tr>\n",
       "  </tbody>\n",
       "</table>\n",
       "</div>"
      ],
      "text/plain": [
       "                               token term_str  term_id\n",
       "Unnamed: 0 sent_id token_id                           \n",
       "14539      0       4         pivotal  pivotal    21767\n",
       "                   5          moment   moment    18975\n",
       "                   8          global   global    12688\n",
       "                   9           fight    fight    11449\n",
       "                   11            HIV      hiv    13918"
      ]
     },
     "execution_count": 7,
     "metadata": {},
     "output_type": "execute_result"
    }
   ],
   "source": [
    "tokens, vocab = tx.create_tokens_and_vocab(docs, src_col='Text')\n",
    "tokens.head()"
   ]
  },
  {
   "cell_type": "code",
   "execution_count": 9,
   "metadata": {},
   "outputs": [],
   "source": [
    "tokens['term_str'] = tokens.term_id.map(vocab.term_str)"
   ]
  },
  {
   "cell_type": "code",
   "execution_count": 10,
   "metadata": {},
   "outputs": [],
   "source": [
    "vectorizer = TfidfVectorizer(use_idf=1, stop_words='english', token_pattern=r'[A-Za-z][A-Za-z][A-Za-z]+')\n",
    "X = vectorizer.fit_transform(docs.Text.values.astype('U'))\n",
    "v = pd.DataFrame(vectorizer.get_feature_names(), columns=['term_str'])\n",
    "v['idf'] = vectorizer.idf_"
   ]
  },
  {
   "cell_type": "code",
   "execution_count": 11,
   "metadata": {},
   "outputs": [
    {
     "data": {
      "text/html": [
       "<div>\n",
       "<style scoped>\n",
       "    .dataframe tbody tr th:only-of-type {\n",
       "        vertical-align: middle;\n",
       "    }\n",
       "\n",
       "    .dataframe tbody tr th {\n",
       "        vertical-align: top;\n",
       "    }\n",
       "\n",
       "    .dataframe thead th {\n",
       "        text-align: right;\n",
       "    }\n",
       "</style>\n",
       "<table border=\"1\" class=\"dataframe\">\n",
       "  <thead>\n",
       "    <tr style=\"text-align: right;\">\n",
       "      <th></th>\n",
       "      <th>term_str</th>\n",
       "      <th>idf</th>\n",
       "    </tr>\n",
       "  </thead>\n",
       "  <tbody>\n",
       "    <tr>\n",
       "      <th>0</th>\n",
       "      <td>aagen</td>\n",
       "      <td>7.908255</td>\n",
       "    </tr>\n",
       "    <tr>\n",
       "      <th>15765</th>\n",
       "      <td>lumley</td>\n",
       "      <td>7.908255</td>\n",
       "    </tr>\n",
       "    <tr>\n",
       "      <th>15776</th>\n",
       "      <td>lundquist</td>\n",
       "      <td>7.908255</td>\n",
       "    </tr>\n",
       "    <tr>\n",
       "      <th>15774</th>\n",
       "      <td>luncheon</td>\n",
       "      <td>7.908255</td>\n",
       "    </tr>\n",
       "    <tr>\n",
       "      <th>15772</th>\n",
       "      <td>lunatics</td>\n",
       "      <td>7.908255</td>\n",
       "    </tr>\n",
       "    <tr>\n",
       "      <th>15771</th>\n",
       "      <td>lunatic</td>\n",
       "      <td>7.908255</td>\n",
       "    </tr>\n",
       "    <tr>\n",
       "      <th>15770</th>\n",
       "      <td>lunar</td>\n",
       "      <td>7.908255</td>\n",
       "    </tr>\n",
       "    <tr>\n",
       "      <th>15769</th>\n",
       "      <td>luna</td>\n",
       "      <td>7.908255</td>\n",
       "    </tr>\n",
       "    <tr>\n",
       "      <th>15764</th>\n",
       "      <td>luminary</td>\n",
       "      <td>7.908255</td>\n",
       "    </tr>\n",
       "    <tr>\n",
       "      <th>15938</th>\n",
       "      <td>mainframe</td>\n",
       "      <td>7.908255</td>\n",
       "    </tr>\n",
       "  </tbody>\n",
       "</table>\n",
       "</div>"
      ],
      "text/plain": [
       "        term_str       idf\n",
       "0          aagen  7.908255\n",
       "15765     lumley  7.908255\n",
       "15776  lundquist  7.908255\n",
       "15774   luncheon  7.908255\n",
       "15772   lunatics  7.908255\n",
       "15771    lunatic  7.908255\n",
       "15770      lunar  7.908255\n",
       "15769       luna  7.908255\n",
       "15764   luminary  7.908255\n",
       "15938  mainframe  7.908255"
      ]
     },
     "execution_count": 11,
     "metadata": {},
     "output_type": "execute_result"
    }
   ],
   "source": [
    "v.sort_values('idf', ascending=False).head(10)"
   ]
  },
  {
   "cell_type": "code",
   "execution_count": 37,
   "metadata": {},
   "outputs": [],
   "source": [
    "cutoff = 4.5\n",
    "v = v[v.idf > cutoff].sort_values('idf', ascending=False).sample(800)\n",
    "my_v = v.term_str.tolist()\n",
    "tokens = tokens[tokens.term_str.isin(my_v)]"
   ]
  },
  {
   "cell_type": "code",
   "execution_count": 38,
   "metadata": {},
   "outputs": [],
   "source": [
    "corpus = tx.gather_tokens(tokens, level=0, col='term_str')\\\n",
    "    .reset_index().rename(columns={'term_str':'doc_content'})"
   ]
  },
  {
   "cell_type": "code",
   "execution_count": 39,
   "metadata": {},
   "outputs": [
    {
     "data": {
      "text/html": [
       "<div>\n",
       "<style scoped>\n",
       "    .dataframe tbody tr th:only-of-type {\n",
       "        vertical-align: middle;\n",
       "    }\n",
       "\n",
       "    .dataframe tbody tr th {\n",
       "        vertical-align: top;\n",
       "    }\n",
       "\n",
       "    .dataframe thead th {\n",
       "        text-align: right;\n",
       "    }\n",
       "</style>\n",
       "<table border=\"1\" class=\"dataframe\">\n",
       "  <thead>\n",
       "    <tr style=\"text-align: right;\">\n",
       "      <th></th>\n",
       "      <th>Unnamed: 0</th>\n",
       "      <th>doc_content</th>\n",
       "    </tr>\n",
       "  </thead>\n",
       "  <tbody>\n",
       "    <tr>\n",
       "      <th>0</th>\n",
       "      <td>14539</td>\n",
       "      <td>infections</td>\n",
       "    </tr>\n",
       "    <tr>\n",
       "      <th>1</th>\n",
       "      <td>13947</td>\n",
       "      <td>suspension suspension</td>\n",
       "    </tr>\n",
       "    <tr>\n",
       "      <th>2</th>\n",
       "      <td>6416</td>\n",
       "      <td>stick</td>\n",
       "    </tr>\n",
       "    <tr>\n",
       "      <th>3</th>\n",
       "      <td>7224</td>\n",
       "      <td>hadi hadi hadi hadi</td>\n",
       "    </tr>\n",
       "    <tr>\n",
       "      <th>4</th>\n",
       "      <td>10646</td>\n",
       "      <td>introducing exporters closest introducing back...</td>\n",
       "    </tr>\n",
       "  </tbody>\n",
       "</table>\n",
       "</div>"
      ],
      "text/plain": [
       "   Unnamed: 0                                        doc_content\n",
       "0       14539                                         infections\n",
       "1       13947                              suspension suspension\n",
       "2        6416                                              stick\n",
       "3        7224                                hadi hadi hadi hadi\n",
       "4       10646  introducing exporters closest introducing back..."
      ]
     },
     "execution_count": 39,
     "metadata": {},
     "output_type": "execute_result"
    }
   ],
   "source": [
    "corpus.head()\n"
   ]
  },
  {
   "cell_type": "code",
   "execution_count": 40,
   "metadata": {},
   "outputs": [],
   "source": [
    "corpus.to_csv('obama100-corpus.csv', index=False)"
   ]
  },
  {
   "cell_type": "code",
   "execution_count": 41,
   "metadata": {},
   "outputs": [
    {
     "name": "stdout",
     "output_type": "stream",
     "text": [
      "Mallet 2.0 commands: \n",
      "  import-dir        load the contents of a directory into mallet instances (one per file)\n",
      "  import-file       load a single file into mallet instances (one per line)\n",
      "  import-svmlight   load a single SVMLight format data file into mallet instances (one per line)\n",
      "  info              get information about Mallet instances\n",
      "  train-classifier  train a classifier from Mallet data files\n",
      "  classify-dir      classify data from a single file with a saved classifier\n",
      "  classify-file     classify the contents of a directory with a saved classifier\n",
      "  classify-svmlight classify data from a single file in SVMLight format\n",
      "  train-topics      train a topic model from Mallet data files\n",
      "  infer-topics      use a trained topic model to infer topics for new documents\n",
      "  evaluate-topics   estimate the probability of new documents given a trained model\n",
      "  prune             remove features based on frequency or information gain\n",
      "  split             divide data into testing, training, and validation portions\n",
      "  bulk-load         for big input files, efficiently prune vocabulary and import docs\n",
      "Include --help with any option for more information\n"
     ]
    }
   ],
   "source": [
    "!{mallet_path}"
   ]
  },
  {
   "cell_type": "code",
   "execution_count": 42,
   "metadata": {},
   "outputs": [],
   "source": [
    "!{mallet_path} import-file --input obama100-corpus.csv --output obama100-corpus.mallet --keep-sequence TRUE"
   ]
  },
  {
   "cell_type": "code",
   "execution_count": 43,
   "metadata": {},
   "outputs": [
    {
     "name": "stderr",
     "output_type": "stream",
     "text": [
      "Mallet LDA: 10 topics, 4 topic bits, 1111 topic mask\n",
      "Data loaded.\n",
      "max tokens: 137\n",
      "total tokens: 3561\n",
      "<10> LL/token: -6.45617\n",
      "<20> LL/token: -6.3433\n",
      "<30> LL/token: -6.31119\n",
      "<40> LL/token: -6.28132\n",
      "<50> LL/token: -6.28366\n",
      "<60> LL/token: -6.26674\n",
      "<70> LL/token: -6.23707\n",
      "<80> LL/token: -6.26539\n",
      "<90> LL/token: -6.25618\n",
      "\n",
      "0\t0.5\tsurprised stick devices hepatitis reception recovering christianity ambition insights tefft myers alternate admiration shoulders rangel sage interface blues classic lifestyle \n",
      "1\t0.5\tdisclosure guaranteed borrow notwithstanding amend consolidation messy difficulty merle kayla sar aumf shortly downs candidly devote remembers dover kindness unilateral \n",
      "2\t0.5\ttire rolling port des uss inspections fulton rhode baltic vanaskie proposition specializing newman unscrupulous morty segments prominently toyo portsmouth intercept \n",
      "3\t0.5\tsquare victory doubts ill justin shutdown empathy caught brush exciting borrower retained champions paths pensions freshman sparked teenage dumping bounce \n",
      "4\t0.5\tcybersecurity servicemembers islands progressive duckworth assumed rubio stewardship tracy sponsor decimated defensive cyberspace unnecessarily killion cornett caught specializing disconnect bubble \n",
      "5\t0.5\thts leroy obesity lerner sports demonstration eating maya arm hurwitz taranto broas hadi lasted usmc compound stupid cousins minneapolis drafted \n",
      "6\t0.5\tholocaust muslims francisco falls faiths infections elimination avenue newly rousseff apparent condoms mankind seeds hibri grab jew exporters celtics carnage \n",
      "7\t0.5\tlgbt ireland rahm capacities instruments fora ira excluded briefed berk fruit pollination melting deposit affords philanthropy normally dawud disconcerting rozita \n",
      "8\t0.5\tjeff drill bell statistics philanthropic americorps ministries closest philanthropy fargo normally introducing echohawk reactors seoul newly placeholder korsmo whoa santa \n",
      "9\t0.5\tkarzai nomination favor sacred correct seoul reconciliation secondary expenditures pictures appears oppression limiting considerable inevitable drift merely difficulty praying capita \n",
      "\n",
      "<100> LL/token: -6.24831\n",
      "\n",
      "Total time: 0 seconds\n"
     ]
    }
   ],
   "source": [
    "!{mallet_path} train-topics --input obama100-corpus.mallet --num-topics {num_topics} --num-iterations {num_iters} \\\n",
    "--output-doc-topics obama100-doc-topics.txt \\\n",
    "--output-topic-keys obama100-topic-keys.txt \\\n",
    "--word-topic-counts-file obama100-word-topic-counts-file.txt \\\n",
    "--topic-word-weights-file obama100-topic-word-weights-file.txt \\\n",
    "--xml-topic-report obama100-topic-report.xml \\\n",
    "--xml-topic-phrase-report obama100-topic-phrase-report.xml \\\n",
    "--show-topics-interval {show_interval} \\\n",
    "--use-symmetric-alpha false  \\\n",
    "--optimize-interval 100 \\\n",
    "--diagnostics-file obama100-diagnostics.xml"
   ]
  }
 ],
 "metadata": {
  "kernelspec": {
   "display_name": "Python 3",
   "language": "python",
   "name": "python3"
  },
  "language_info": {
   "codemirror_mode": {
    "name": "ipython",
    "version": 3
   },
   "file_extension": ".py",
   "mimetype": "text/x-python",
   "name": "python",
   "nbconvert_exporter": "python",
   "pygments_lexer": "ipython3",
   "version": "3.7.3"
  },
  "toc": {
   "base_numbering": 1,
   "nav_menu": {},
   "number_sections": true,
   "sideBar": true,
   "skip_h1_title": false,
   "title_cell": "Table of Contents",
   "title_sidebar": "Contents",
   "toc_cell": false,
   "toc_position": {},
   "toc_section_display": true,
   "toc_window_display": false
  }
 },
 "nbformat": 4,
 "nbformat_minor": 2
}
